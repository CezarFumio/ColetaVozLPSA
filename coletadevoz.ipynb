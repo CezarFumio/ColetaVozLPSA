{
 "cells": [
  {
   "cell_type": "markdown",
   "metadata": {},
   "source": [
    "# Sistema de aquisição de dados de voz normal e sussurrada\n",
    "\n",
    "Criado por: Cezar Yamamura, Rogério Pignelli, Prof. Dr. Paulo Scalassara\n",
    "\n",
    "Data: 19 set 2024"
   ]
  },
  {
   "cell_type": "markdown",
   "metadata": {},
   "source": [
    "### 1 - Definir o código do voluntário"
   ]
  },
  {
   "cell_type": "code",
   "execution_count": 1,
   "metadata": {},
   "outputs": [],
   "source": [
    "speaker_code = \"speakerM01\""
   ]
  },
  {
   "cell_type": "markdown",
   "metadata": {},
   "source": [
    "### 2 - Carregar as funções e as bibliotecas"
   ]
  },
  {
   "cell_type": "code",
   "execution_count": 19,
   "metadata": {},
   "outputs": [],
   "source": [
    "import sounddevice as sd\n",
    "import soundfile as sf\n",
    "import ipywidgets as widgets\n",
    "from IPython.display import display, clear_output\n",
    "import os\n",
    "import numpy as np\n",
    "import sys\n",
    "import matplotlib.pyplot as plt\n",
    "import IPython\n",
    "\n",
    "\n",
    "# Configurações de gravação\n",
    "sample_rate = 44100  # 44.1kHz\n",
    "channels = 1\n",
    "recording = None  # Variável global para armazenar o áudio gravado\n",
    "mode = 'normal'  # Modo de gravação: 'normal' ou 'sussurrada'\n",
    "is_recording = False\n",
    "recording = []\n",
    "current_index = 0 \n",
    "\n",
    "# Função para carregar as palavras do arquivo tasks1.txt\n",
    "def load_words_from_file(filepath):\n",
    "    try:\n",
    "        with open(filepath, 'r') as file:\n",
    "            file_words = [line.strip() for line in file.readlines()]\n",
    "        return file_words\n",
    "    except FileNotFoundError:\n",
    "        print(f\"Arquivo {filepath} não encontrado.\")\n",
    "        return []\n",
    "    \n",
    "# Função de callback para capturar o áudio continuamente\n",
    "def callback(indata, frames, time, status):\n",
    "    if is_recording:\n",
    "        recording.append(indata.copy())\n",
    "\n",
    "# Função para iniciar a gravação\n",
    "def start_recording(b):\n",
    "    global recording, is_recording, stream\n",
    "    clear_output()  # Limpa a saída do notebook\n",
    "    recording = []  # Reseta a gravação anterior\n",
    "    is_recording = True\n",
    "    print(f\"Iniciando a gravação do task 't{current_index + task_aux + 1}' da palavra '{words[current_index]}' com fala {mode} \")\n",
    "    display(stop_button)\n",
    "    # Inicia o fluxo de entrada com callback\n",
    "    stream = sd.InputStream(samplerate=sample_rate, channels=channels, callback=callback)\n",
    "    stream.start()  \n",
    "\n",
    "# Função para parar a gravação e salvar o arquivo\n",
    "def stop_recording(b):\n",
    "    global recording, current_index, mode, stream, is_recording, speaker_code\n",
    "    is_recording = False\n",
    "    stream.stop()\n",
    "    stream.close()\n",
    "    clear_output()  # Limpa a saída do notebook\n",
    "    print(\"Gravação parada.\")\n",
    "    \n",
    "    # Concatena todos os segmentos gravados\n",
    "    audio_data = np.concatenate(recording, axis=0)\n",
    "    \n",
    "    # Definir código do speaker e task\n",
    "    \n",
    "    task_number = f\"t{current_index + task_aux + 1:02d}\"  # Task com zero à esquerda, ex: t01, t02...\n",
    "    \n",
    "    # Define modo de fala\n",
    "    if mode == 'normal':\n",
    "        mode_code = \"N\"\n",
    "    else:\n",
    "        mode_code = \"W\"\n",
    "\n",
    "    # Definir nome do arquivo no formato desejado\n",
    "    filename = f\"{speaker_code}_{task_number}_{mode_code}.wav\"\n",
    "    \n",
    "    # Cria a pasta se não existir\n",
    "    folder = speaker_code\n",
    "    if not os.path.exists(folder):\n",
    "        os.makedirs(folder)\n",
    "\n",
    "    # Caminho completo do arquivo\n",
    "    filepath = os.path.join(folder, filename)\n",
    "\n",
    "    # Calcula o número de amostras a serem cortadas (100 ms) Por causa do click do mouse\n",
    "    sample_rate = 44100\n",
    "    cut_samples = int(sample_rate * 0.25)  # 10 ms\n",
    "\n",
    "    # Corta os primeiros e últimos 10 ms\n",
    "    if len(audio_data) > 2 * cut_samples:\n",
    "        audio_data = audio_data[cut_samples:-cut_samples]\n",
    "    else:\n",
    "        print(\"Áudio muito curto para aplicar o corte.\")\n",
    "\n",
    "    # Salva o arquivo de áudio\n",
    "    sf.write(filepath, audio_data, sample_rate)\n",
    "    print(f\"Gravação salva como {filepath}\")\n",
    "\n",
    "    display(next_button, restart_button)\n",
    "\n",
    "    # Calcula o tempo em segundos\n",
    "    time = np.arange(len(audio_data)) / sample_rate\n",
    "    plt.figure(figsize=(10, 4))\n",
    "    plt.plot(time,audio_data)\n",
    "    plt.title(f\"Waveform - {filename}\")\n",
    "    plt.xlabel(\"Amostras\")\n",
    "    plt.ylabel(\"Amplitude\")\n",
    "    plt.grid()\n",
    "    plt.show()\n",
    "\n",
    "    # Criar o widget de áudio para reprodução\n",
    "    display(IPython.display.Audio(filename=filepath))\n",
    "\n",
    "# Função para avançar para a próxima palavra\n",
    "def next_word(b):\n",
    "    global current_index, mode\n",
    "    clear_output()  # Limpa a saída do notebook\n",
    "\n",
    "    # Alterna entre fala normal e sussurrada\n",
    "    if mode == 'normal':\n",
    "        mode = 'sussurrada'\n",
    "    else:\n",
    "        mode = 'normal'\n",
    "        current_index += 1  # Passa para a próxima palavra\n",
    "        \n",
    "\n",
    "    if current_index < len(words):\n",
    "        print(f\"Grave a palavra '{words[current_index]}' do task 't{current_index + task_aux + 1:02d}' com fala {mode}:\")\n",
    "        display(start_button, stop_button, next_button)\n",
    "    else:\n",
    "        print(\"Todas as palavras foram gravadas.\")\n",
    "        current_index = 0  # Reinicia a contagem se necessário\n",
    "\n",
    " # Função para iniciar o sistema\n",
    "def start_system(b):\n",
    "    global current_index, mode\n",
    "    clear_output()  # Limpa a saída do notebook\n",
    "\n",
    "    print(f\"Grave a palavra '{words[current_index]}' do task 't{current_index + task_aux + 1:02d}' com fala {mode}:\")\n",
    "    display(start_button, stop_button, next_button)\n"
   ]
  },
  {
   "cell_type": "markdown",
   "metadata": {},
   "source": [
    "### 3 - Iniciar o Task 1: Fonemas Sustentados \n",
    "\n",
    "O voluntário pronunciará cada som três vezes em fala normal e três vezes em sussurro, com duração de 1 a 3 segundos cada. "
   ]
  },
  {
   "cell_type": "code",
   "execution_count": 23,
   "metadata": {},
   "outputs": [
    {
     "name": "stdout",
     "output_type": "stream",
     "text": [
      "Clique em 'Start System' para iniciar a gravação:\n"
     ]
    },
    {
     "data": {
      "application/vnd.jupyter.widget-view+json": {
       "model_id": "ffdb3aa9d53a48c8b083fa88523ba178",
       "version_major": 2,
       "version_minor": 0
      },
      "text/plain": [
       "Button(description='Start System', style=ButtonStyle())"
      ]
     },
     "metadata": {},
     "output_type": "display_data"
    }
   ],
   "source": [
    "# Carrega as palavras do arquivo e filtra a lista original\n",
    "words = load_words_from_file('tasks/tasks1.txt')\n",
    "task_aux = 0\n",
    "\n",
    "start_button = widgets.Button(description=\"Iniciar Gravação\")\n",
    "stop_button = widgets.Button(description=\"Parar Gravação\")\n",
    "next_button = widgets.Button(description=\"Próximo\")\n",
    "start_system_button = widgets.Button(description=\"Start System\")\n",
    "restart_button = widgets.Button(description=\"Gravar Novamente\")\n",
    "\n",
    "# Atribui funções aos botões\n",
    "start_button.on_click(start_recording)\n",
    "stop_button.on_click(stop_recording)\n",
    "next_button.on_click(next_word)\n",
    "start_system_button.on_click(start_system)\n",
    "restart_button.on_click(start_recording)\n",
    "\n",
    "# Inicia a interface\n",
    "print(\"Clique em 'Start System' para iniciar a gravação:\")\n",
    "display(start_system_button)"
   ]
  },
  {
   "cell_type": "markdown",
   "metadata": {},
   "source": [
    "### 4 - Iniciar o Task 2: Leitura de Palavras \n",
    "\n",
    "O voluntário pronunciará cada palavra três vezes em fala normal e três vezes em sussurro. "
   ]
  },
  {
   "cell_type": "code",
   "execution_count": 25,
   "metadata": {},
   "outputs": [
    {
     "name": "stdout",
     "output_type": "stream",
     "text": [
      "Clique em 'Start System' para iniciar a gravação:\n"
     ]
    },
    {
     "data": {
      "application/vnd.jupyter.widget-view+json": {
       "model_id": "1b8761759f3c4aea9493f847a5c51831",
       "version_major": 2,
       "version_minor": 0
      },
      "text/plain": [
       "Button(description='Start System', style=ButtonStyle())"
      ]
     },
     "metadata": {},
     "output_type": "display_data"
    }
   ],
   "source": [
    "# Carrega as palavras do arquivo e filtra a lista original\n",
    "words = load_words_from_file('tasks/tasks2.txt')\n",
    "task_aux = 13\n",
    "\n",
    "start_button = widgets.Button(description=\"Iniciar Gravação\")\n",
    "stop_button = widgets.Button(description=\"Parar Gravação\")\n",
    "next_button = widgets.Button(description=\"Próximo\")\n",
    "start_system_button = widgets.Button(description=\"Start System\")\n",
    "restart_button = widgets.Button(description=\"Gravar Novamente\")\n",
    "\n",
    "# Atribui funções aos botões\n",
    "start_button.on_click(start_recording)\n",
    "stop_button.on_click(stop_recording)\n",
    "next_button.on_click(next_word)\n",
    "start_system_button.on_click(start_system)\n",
    "restart_button.on_click(start_recording)\n",
    "\n",
    "# Inicia a interface\n",
    "print(\"Clique em 'Start System' para iniciar a gravação:\")\n",
    "display(start_system_button)"
   ]
  },
  {
   "cell_type": "markdown",
   "metadata": {},
   "source": [
    "### 5 - Iniciar o Task 3: Leitura de Frases\n",
    "\n",
    "O voluntário lerá frases três vezes em fala normal e três vezes em sussurro."
   ]
  },
  {
   "cell_type": "code",
   "execution_count": 26,
   "metadata": {},
   "outputs": [
    {
     "name": "stdout",
     "output_type": "stream",
     "text": [
      "Clique em 'Start System' para iniciar a gravação:\n"
     ]
    },
    {
     "data": {
      "application/vnd.jupyter.widget-view+json": {
       "model_id": "e3e11d877bd5448cb9409d5375c1130f",
       "version_major": 2,
       "version_minor": 0
      },
      "text/plain": [
       "Button(description='Start System', style=ButtonStyle())"
      ]
     },
     "metadata": {},
     "output_type": "display_data"
    }
   ],
   "source": [
    "# Carrega as palavras do arquivo e filtra a lista original\n",
    "words = load_words_from_file('tasks/tasks3.txt')\n",
    "task_aux = 38\n",
    "\n",
    "start_button = widgets.Button(description=\"Iniciar Gravação\")\n",
    "stop_button = widgets.Button(description=\"Parar Gravação\")\n",
    "next_button = widgets.Button(description=\"Próximo\")\n",
    "start_system_button = widgets.Button(description=\"Start System\")\n",
    "restart_button = widgets.Button(description=\"Gravar Novamente\")\n",
    "\n",
    "# Atribui funções aos botões\n",
    "start_button.on_click(start_recording)\n",
    "stop_button.on_click(stop_recording)\n",
    "next_button.on_click(next_word)\n",
    "start_system_button.on_click(start_system)\n",
    "restart_button.on_click(start_recording)\n",
    "\n",
    "# Inicia a interface\n",
    "print(\"Clique em 'Start System' para iniciar a gravação:\")\n",
    "display(start_system_button)"
   ]
  },
  {
   "cell_type": "markdown",
   "metadata": {},
   "source": [
    "### 6 - Iniciar o Task 4: Leitura de texto\n",
    "\n",
    "O voluntário lerá 1 texto uma vez em fala normal e uma vez em sussurro. \n",
    "\n",
    "O vento norte e o sol discutiam qual dos dois era o mais forte, quando sucedeu passar um viajante envolto numa capa. Ao vê-lo, põem-se de acordo em como aquele que primeiro conseguisse obrigar o viajante a tirar a capa seria considerado o mais forte. O vento norte começou a soprar com muita fúria, mas quanto mais soprava, mais o viajante se aconchegava à sua capa, até que o vento norte desistiu. O sol brilhou então com todo o esplendor, e imediatamente o viajante tirou a capa. O vento norte teve assim de reconhecer a superioridade do sol."
   ]
  },
  {
   "cell_type": "code",
   "execution_count": 27,
   "metadata": {},
   "outputs": [
    {
     "name": "stdout",
     "output_type": "stream",
     "text": [
      "Clique em 'Start System' para iniciar a gravação:\n"
     ]
    },
    {
     "data": {
      "application/vnd.jupyter.widget-view+json": {
       "model_id": "9af22e4e9e2e4d27a861f8577b79d6e8",
       "version_major": 2,
       "version_minor": 0
      },
      "text/plain": [
       "Button(description='Start System', style=ButtonStyle())"
      ]
     },
     "metadata": {},
     "output_type": "display_data"
    }
   ],
   "source": [
    "# Carrega as palavras do arquivo e filtra a lista original\n",
    "words = load_words_from_file('tasks/tasks4.txt')\n",
    "task_aux = 48\n",
    "\n",
    "start_button = widgets.Button(description=\"Iniciar Gravação\")\n",
    "stop_button = widgets.Button(description=\"Parar Gravação\")\n",
    "next_button = widgets.Button(description=\"Próximo\")\n",
    "start_system_button = widgets.Button(description=\"Start System\")\n",
    "restart_button = widgets.Button(description=\"Gravar Novamente\")\n",
    "\n",
    "# Atribui funções aos botões\n",
    "start_button.on_click(start_recording)\n",
    "stop_button.on_click(stop_recording)\n",
    "next_button.on_click(next_word)\n",
    "start_system_button.on_click(start_system)\n",
    "restart_button.on_click(start_recording)\n",
    "\n",
    "# Inicia a interface\n",
    "print(\"Clique em 'Start System' para iniciar a gravação:\")\n",
    "display(start_system_button)"
   ]
  },
  {
   "cell_type": "code",
   "execution_count": null,
   "metadata": {},
   "outputs": [],
   "source": []
  }
 ],
 "metadata": {
  "kernelspec": {
   "display_name": "Python 3",
   "language": "python",
   "name": "python3"
  },
  "language_info": {
   "codemirror_mode": {
    "name": "ipython",
    "version": 3
   },
   "file_extension": ".py",
   "mimetype": "text/x-python",
   "name": "python",
   "nbconvert_exporter": "python",
   "pygments_lexer": "ipython3",
   "version": "3.10.14"
  }
 },
 "nbformat": 4,
 "nbformat_minor": 2
}
